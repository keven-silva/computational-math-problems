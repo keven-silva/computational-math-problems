{
 "cells": [
  {
   "cell_type": "code",
   "execution_count": 1,
   "id": "f9c0a14c",
   "metadata": {
    "_cell_guid": "b1076dfc-b9ad-4769-8c92-a6c4dae69d19",
    "_uuid": "8f2839f25d086af736a60e9eeb907d3b93b6e0e5",
    "execution": {
     "iopub.execute_input": "2023-05-18T18:58:32.699056Z",
     "iopub.status.busy": "2023-05-18T18:58:32.698525Z",
     "iopub.status.idle": "2023-05-18T18:58:48.063658Z",
     "shell.execute_reply": "2023-05-18T18:58:48.062264Z"
    },
    "papermill": {
     "duration": 15.376204,
     "end_time": "2023-05-18T18:58:48.066451",
     "exception": false,
     "start_time": "2023-05-18T18:58:32.690247",
     "status": "completed"
    },
    "tags": []
   },
   "outputs": [
    {
     "name": "stdout",
     "output_type": "stream",
     "text": [
      "Collecting mip\r\n",
      "  Downloading mip-1.15.0-py3-none-any.whl (15.3 MB)\r\n",
      "\u001b[2K     \u001b[90m━━━━━━━━━━━━━━━━━━━━━━━━━━━━━━━━━━━━━━━━\u001b[0m \u001b[32m15.3/15.3 MB\u001b[0m \u001b[31m56.0 MB/s\u001b[0m eta \u001b[36m0:00:00\u001b[0m\r\n",
      "\u001b[?25hRequirement already satisfied: cffi==1.15.* in /opt/conda/lib/python3.10/site-packages (from mip) (1.15.1)\r\n",
      "Requirement already satisfied: pycparser in /opt/conda/lib/python3.10/site-packages (from cffi==1.15.*->mip) (2.21)\r\n",
      "Installing collected packages: mip\r\n",
      "Successfully installed mip-1.15.0\r\n",
      "\u001b[33mWARNING: Running pip as the 'root' user can result in broken permissions and conflicting behaviour with the system package manager. It is recommended to use a virtual environment instead: https://pip.pypa.io/warnings/venv\u001b[0m\u001b[33m\r\n",
      "\u001b[0m"
     ]
    }
   ],
   "source": [
    "!pip install mip"
   ]
  },
  {
   "cell_type": "code",
   "execution_count": 2,
   "id": "15a2386a",
   "metadata": {
    "execution": {
     "iopub.execute_input": "2023-05-18T18:58:48.082109Z",
     "iopub.status.busy": "2023-05-18T18:58:48.081708Z",
     "iopub.status.idle": "2023-05-18T18:58:48.161152Z",
     "shell.execute_reply": "2023-05-18T18:58:48.160227Z"
    },
    "papermill": {
     "duration": 0.090399,
     "end_time": "2023-05-18T18:58:48.163714",
     "exception": false,
     "start_time": "2023-05-18T18:58:48.073315",
     "status": "completed"
    },
    "tags": []
   },
   "outputs": [],
   "source": [
    "from mip import Model, xsum, minimize, BINARY\n",
    "import numpy as np"
   ]
  },
  {
   "cell_type": "markdown",
   "id": "3566d7e2",
   "metadata": {
    "papermill": {
     "duration": 0.006305,
     "end_time": "2023-05-18T18:58:48.176723",
     "exception": false,
     "start_time": "2023-05-18T18:58:48.170418",
     "status": "completed"
    },
    "tags": []
   },
   "source": [
    "# Input data\n"
   ]
  },
  {
   "cell_type": "code",
   "execution_count": 3,
   "id": "4986e74c",
   "metadata": {
    "execution": {
     "iopub.execute_input": "2023-05-18T18:58:48.191230Z",
     "iopub.status.busy": "2023-05-18T18:58:48.190862Z",
     "iopub.status.idle": "2023-05-18T18:58:48.197351Z",
     "shell.execute_reply": "2023-05-18T18:58:48.196358Z"
    },
    "papermill": {
     "duration": 0.016658,
     "end_time": "2023-05-18T18:58:48.199651",
     "exception": false,
     "start_time": "2023-05-18T18:58:48.182993",
     "status": "completed"
    },
    "tags": []
   },
   "outputs": [],
   "source": [
    "componentes = [1,2,3,4]\n",
    "\n",
    "maquina_A = [0.04, 0, 0.02, 0.06]\n",
    "maquina_B = [0.02, 0.01, 0.06, 0.04]\n",
    "maquina_C = [0.02, 0.05, 0, 0.15]\n",
    "maquina_D = [0, 0.15, 0.06, 0]\n",
    "maquina_E = [0.03, 0.09, 0.20, 0]\n",
    "maquina_F = [0.06, 0.06, 0.20, 0.05]\n",
    "\n",
    "demanda_semanal = 150\n",
    "\n",
    "tempo_disp_maquinas = 40"
   ]
  },
  {
   "cell_type": "code",
   "execution_count": 4,
   "id": "91dffbb9",
   "metadata": {
    "execution": {
     "iopub.execute_input": "2023-05-18T18:58:48.214446Z",
     "iopub.status.busy": "2023-05-18T18:58:48.214063Z",
     "iopub.status.idle": "2023-05-18T18:58:48.219420Z",
     "shell.execute_reply": "2023-05-18T18:58:48.218215Z"
    },
    "papermill": {
     "duration": 0.015458,
     "end_time": "2023-05-18T18:58:48.221640",
     "exception": false,
     "start_time": "2023-05-18T18:58:48.206182",
     "status": "completed"
    },
    "tags": []
   },
   "outputs": [],
   "source": [
    "preco_producao = [2.55 , 2.47, 4.40, 1.90]\n",
    "preco_compra = [3.10, 2.60, 4.50, 2.25]"
   ]
  },
  {
   "cell_type": "markdown",
   "id": "fc978fab",
   "metadata": {
    "papermill": {
     "duration": 0.006094,
     "end_time": "2023-05-18T18:58:48.234210",
     "exception": false,
     "start_time": "2023-05-18T18:58:48.228116",
     "status": "completed"
    },
    "tags": []
   },
   "source": [
    "# Model"
   ]
  },
  {
   "cell_type": "code",
   "execution_count": 5,
   "id": "ce8f7215",
   "metadata": {
    "execution": {
     "iopub.execute_input": "2023-05-18T18:58:48.249693Z",
     "iopub.status.busy": "2023-05-18T18:58:48.248995Z",
     "iopub.status.idle": "2023-05-18T18:58:49.568429Z",
     "shell.execute_reply": "2023-05-18T18:58:49.567285Z"
    },
    "papermill": {
     "duration": 1.330078,
     "end_time": "2023-05-18T18:58:49.571225",
     "exception": false,
     "start_time": "2023-05-18T18:58:48.241147",
     "status": "completed"
    },
    "tags": []
   },
   "outputs": [],
   "source": [
    "model = Model(\"Avaliação prática parte 4\")"
   ]
  },
  {
   "cell_type": "code",
   "execution_count": 6,
   "id": "7cf20979",
   "metadata": {
    "execution": {
     "iopub.execute_input": "2023-05-18T18:58:49.586027Z",
     "iopub.status.busy": "2023-05-18T18:58:49.585649Z",
     "iopub.status.idle": "2023-05-18T18:58:49.591995Z",
     "shell.execute_reply": "2023-05-18T18:58:49.590837Z"
    },
    "papermill": {
     "duration": 0.016434,
     "end_time": "2023-05-18T18:58:49.594271",
     "exception": false,
     "start_time": "2023-05-18T18:58:49.577837",
     "status": "completed"
    },
    "tags": []
   },
   "outputs": [],
   "source": [
    "p = [model.add_var(f'P({i})', var_type=BINARY)\n",
    "            for i in range(len(componentes))]\n",
    "\n",
    "c = [model.add_var(f'C({i})', var_type=BINARY)\n",
    "             for i in range(len(componentes))]"
   ]
  },
  {
   "cell_type": "code",
   "execution_count": 7,
   "id": "a12fe311",
   "metadata": {
    "execution": {
     "iopub.execute_input": "2023-05-18T18:58:49.609034Z",
     "iopub.status.busy": "2023-05-18T18:58:49.608647Z",
     "iopub.status.idle": "2023-05-18T18:58:49.617671Z",
     "shell.execute_reply": "2023-05-18T18:58:49.616387Z"
    },
    "papermill": {
     "duration": 0.019367,
     "end_time": "2023-05-18T18:58:49.620180",
     "exception": false,
     "start_time": "2023-05-18T18:58:49.600813",
     "status": "completed"
    },
    "tags": []
   },
   "outputs": [],
   "source": [
    "model.objective = minimize(\n",
    "        demanda_semanal * xsum(((p[i] * preco_producao[i]) + (c[i] * preco_compra[i])  for i in range(len(componentes))))\n",
    "    )"
   ]
  },
  {
   "cell_type": "markdown",
   "id": "a488c1cc",
   "metadata": {
    "papermill": {
     "duration": 0.006164,
     "end_time": "2023-05-18T18:58:49.632864",
     "exception": false,
     "start_time": "2023-05-18T18:58:49.626700",
     "status": "completed"
    },
    "tags": []
   },
   "source": [
    "# S.a"
   ]
  },
  {
   "cell_type": "code",
   "execution_count": 8,
   "id": "62485f7b",
   "metadata": {
    "execution": {
     "iopub.execute_input": "2023-05-18T18:58:49.647865Z",
     "iopub.status.busy": "2023-05-18T18:58:49.646819Z",
     "iopub.status.idle": "2023-05-18T18:58:49.652660Z",
     "shell.execute_reply": "2023-05-18T18:58:49.651649Z"
    },
    "papermill": {
     "duration": 0.015663,
     "end_time": "2023-05-18T18:58:49.654920",
     "exception": false,
     "start_time": "2023-05-18T18:58:49.639257",
     "status": "completed"
    },
    "tags": []
   },
   "outputs": [],
   "source": [
    "for i in range(len(componentes)):\n",
    "    model += p[i] + c[i] == 1"
   ]
  },
  {
   "cell_type": "code",
   "execution_count": 9,
   "id": "c2e35e11",
   "metadata": {
    "execution": {
     "iopub.execute_input": "2023-05-18T18:58:49.669972Z",
     "iopub.status.busy": "2023-05-18T18:58:49.669257Z",
     "iopub.status.idle": "2023-05-18T18:58:49.677701Z",
     "shell.execute_reply": "2023-05-18T18:58:49.676916Z"
    },
    "papermill": {
     "duration": 0.019035,
     "end_time": "2023-05-18T18:58:49.680367",
     "exception": false,
     "start_time": "2023-05-18T18:58:49.661332",
     "status": "completed"
    },
    "tags": []
   },
   "outputs": [],
   "source": [
    "model += demanda_semanal * xsum(p[i] * maquina_A[i] for i in range(len(componentes))) <= tempo_disp_maquinas\n",
    "model += demanda_semanal * xsum(p[i] * maquina_B[i] for i in range(len(componentes))) <= tempo_disp_maquinas\n",
    "model += demanda_semanal * xsum(p[i] * maquina_C[i] for i in range(len(componentes))) <= tempo_disp_maquinas \n",
    "model += demanda_semanal * xsum(p[i] * maquina_D[i] for i in range(len(componentes))) <= tempo_disp_maquinas\n",
    "model += demanda_semanal * xsum(p[i] * maquina_E[i] for i in range(len(componentes))) <= tempo_disp_maquinas\n",
    "model += demanda_semanal * xsum(p[i] * maquina_F[i] for i in range(len(componentes))) <= tempo_disp_maquinas"
   ]
  },
  {
   "cell_type": "code",
   "execution_count": 10,
   "id": "ad1fdc6b",
   "metadata": {
    "execution": {
     "iopub.execute_input": "2023-05-18T18:58:49.696096Z",
     "iopub.status.busy": "2023-05-18T18:58:49.695110Z",
     "iopub.status.idle": "2023-05-18T18:58:49.717318Z",
     "shell.execute_reply": "2023-05-18T18:58:49.716106Z"
    },
    "papermill": {
     "duration": 0.032833,
     "end_time": "2023-05-18T18:58:49.720032",
     "exception": false,
     "start_time": "2023-05-18T18:58:49.687199",
     "status": "completed"
    },
    "tags": []
   },
   "outputs": [
    {
     "name": "stdout",
     "output_type": "stream",
     "text": [
      "Welcome to the CBC MILP Solver \n",
      "Version: Trunk\n",
      "Build Date: Oct 24 2021 \n",
      "\n",
      "Starting solution of the Linear programming relaxation problem using Primal Simplex\n",
      "\n",
      "Clp0024I Matrix will be packed to eliminate 5 small elements\n",
      "Coin0506I Presolve 2 (-8) rows, 4 (-4) columns and 7 (-20) elements\n",
      "Clp1000I sum of infeasibilities 2.56506e-12 - average 1.28253e-12, 3 fixed columns\n",
      "Coin0506I Presolve 0 (-2) rows, 0 (-4) columns and 0 (-7) elements\n",
      "Clp0000I Optimal - objective value 1705.75\n",
      "Clp0000I Optimal - objective value 1705.75\n",
      "Coin0511I After Postsolve, objective 1705.75, infeasibilities - dual 0 (0), primal 0 (0)\n",
      "Clp0000I Optimal - objective value 1705.75\n",
      "Clp0000I Optimal - objective value 1705.75\n",
      "Clp0000I Optimal - objective value 1705.75\n",
      "Coin0511I After Postsolve, objective 1705.75, infeasibilities - dual 0 (0), primal 0 (0)\n",
      "Clp0032I Optimal objective 1705.75 - 0 iterations time 0.002, Presolve 0.00, Idiot 0.00\n",
      "\n",
      "Starting MIP optimization\n"
     ]
    },
    {
     "data": {
      "text/plain": [
       "<OptimizationStatus.OPTIMAL: 0>"
      ]
     },
     "execution_count": 10,
     "metadata": {},
     "output_type": "execute_result"
    }
   ],
   "source": [
    "model.optimize()"
   ]
  },
  {
   "cell_type": "markdown",
   "id": "fb1d39c0",
   "metadata": {
    "papermill": {
     "duration": 0.006547,
     "end_time": "2023-05-18T18:58:49.733459",
     "exception": false,
     "start_time": "2023-05-18T18:58:49.726912",
     "status": "completed"
    },
    "tags": []
   },
   "source": [
    "# Model evaluation"
   ]
  },
  {
   "cell_type": "code",
   "execution_count": 11,
   "id": "20020384",
   "metadata": {
    "execution": {
     "iopub.execute_input": "2023-05-18T18:58:49.749669Z",
     "iopub.status.busy": "2023-05-18T18:58:49.748950Z",
     "iopub.status.idle": "2023-05-18T18:58:49.755173Z",
     "shell.execute_reply": "2023-05-18T18:58:49.753651Z"
    },
    "papermill": {
     "duration": 0.017527,
     "end_time": "2023-05-18T18:58:49.757901",
     "exception": false,
     "start_time": "2023-05-18T18:58:49.740374",
     "status": "completed"
    },
    "tags": []
   },
   "outputs": [
    {
     "name": "stdout",
     "output_type": "stream",
     "text": [
      "P(0): 1.0, C(0): 0.0\n",
      "P(1): 1.0, C(1): 0.0\n",
      "P(2): 0.0, C(2): 1.0\n",
      "P(3): 1.0, C(3): 0.0\n"
     ]
    }
   ],
   "source": [
    "for i in range(len(componentes)):\n",
    "    print(f'P({i}): {p[i].x}, C({i}): {c[i].x}')"
   ]
  },
  {
   "cell_type": "code",
   "execution_count": 12,
   "id": "2ee4758b",
   "metadata": {
    "execution": {
     "iopub.execute_input": "2023-05-18T18:58:49.774606Z",
     "iopub.status.busy": "2023-05-18T18:58:49.773507Z",
     "iopub.status.idle": "2023-05-18T18:58:49.779946Z",
     "shell.execute_reply": "2023-05-18T18:58:49.778489Z"
    },
    "papermill": {
     "duration": 0.017018,
     "end_time": "2023-05-18T18:58:49.782173",
     "exception": false,
     "start_time": "2023-05-18T18:58:49.765155",
     "status": "completed"
    },
    "tags": []
   },
   "outputs": [
    {
     "name": "stdout",
     "output_type": "stream",
     "text": [
      "Valor otimo: 1713.0\n"
     ]
    }
   ],
   "source": [
    "print(\"Valor otimo: {}\".format(model.objective_value)) #valor otimo da funcao objetivo"
   ]
  }
 ],
 "metadata": {
  "kernelspec": {
   "display_name": "Python 3",
   "language": "python",
   "name": "python3"
  },
  "language_info": {
   "codemirror_mode": {
    "name": "ipython",
    "version": 3
   },
   "file_extension": ".py",
   "mimetype": "text/x-python",
   "name": "python",
   "nbconvert_exporter": "python",
   "pygments_lexer": "ipython3",
   "version": "3.10.10"
  },
  "papermill": {
   "default_parameters": {},
   "duration": 29.884506,
   "end_time": "2023-05-18T18:58:50.710600",
   "environment_variables": {},
   "exception": null,
   "input_path": "__notebook__.ipynb",
   "output_path": "__notebook__.ipynb",
   "parameters": {},
   "start_time": "2023-05-18T18:58:20.826094",
   "version": "2.4.0"
  }
 },
 "nbformat": 4,
 "nbformat_minor": 5
}
